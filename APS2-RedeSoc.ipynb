{
 "cells": [
  {
   "cell_type": "markdown",
   "id": "f3784af4",
   "metadata": {},
   "source": [
    "# APS 2 - REDES SOCIAIS"
   ]
  },
  {
   "cell_type": "markdown",
   "id": "40774790-84d6-4a7f-aa8b-7603fdcc5bb2",
   "metadata": {},
   "source": [
    "Os dados analisados neste conjunto de dados estão relacionados a um site de notícias sociais online, onde os usuários interagem uns com os outros. Na plataforma, os participantes têm a capacidade de expressar sua confiança em relação a outros usuários, formando assim uma complexa \"Teia de Confiança\" direcionada."
   ]
  },
  {
   "cell_type": "markdown",
   "id": "f8d7a94b",
   "metadata": {},
   "source": [
    "## Importando as bibliotecas necessárias"
   ]
  },
  {
   "cell_type": "code",
   "execution_count": 1,
   "id": "5067bf52",
   "metadata": {
    "execution": {
     "iopub.execute_input": "2023-10-25T13:16:11.533203Z",
     "iopub.status.busy": "2023-10-25T13:16:11.531706Z",
     "iopub.status.idle": "2023-10-25T13:16:16.902468Z",
     "shell.execute_reply": "2023-10-25T13:16:16.901182Z",
     "shell.execute_reply.started": "2023-10-25T13:16:11.533152Z"
    }
   },
   "outputs": [
    {
     "data": {
      "text/html": [
       "\n",
       "    <script src=\"/static/.hidden/netpixi.min.js\"></script>\n"
      ],
      "text/plain": [
       "<IPython.core.display.HTML object>"
      ]
     },
     "metadata": {},
     "output_type": "display_data"
    }
   ],
   "source": [
    "import netpixi\n",
    "import graph_tool_extras as gte\n",
    "from graph_tool import draw\n",
    "import distribution as dst\n",
    "from math import log\n",
    "import csv"
   ]
  },
  {
   "cell_type": "markdown",
   "id": "52fb3ea9",
   "metadata": {},
   "source": [
    "## Funções\n",
    "Funções auxilares para construção do grafo."
   ]
  },
  {
   "cell_type": "code",
   "execution_count": 29,
   "id": "910b1724",
   "metadata": {
    "execution": {
     "iopub.execute_input": "2023-10-25T13:37:16.223896Z",
     "iopub.status.busy": "2023-10-25T13:37:16.222798Z",
     "iopub.status.idle": "2023-10-25T13:37:16.235211Z",
     "shell.execute_reply": "2023-10-25T13:37:16.232799Z",
     "shell.execute_reply.started": "2023-10-25T13:37:16.223850Z"
    }
   },
   "outputs": [],
   "source": [
    "g = gte.Graph(directed=False)\n",
    "\n",
    "def get_or_add_edge(g, source, target):\n",
    "    e = g.edge_by_ids(source, target)\n",
    "    if e is None:\n",
    "        e = g.add_edge_by_ids(source, target)\n",
    "    return e\n",
    "\n",
    "def get_or_add_vertex(g, id):\n",
    "    u = g.vertex_by_id(id)\n",
    "    if u is None:\n",
    "        u = g.add_vertex_by_id(id)\n",
    "    return u"
   ]
  },
  {
   "cell_type": "markdown",
   "id": "be8f2b1e",
   "metadata": {},
   "source": [
    "## _Path_ para o dataset"
   ]
  },
  {
   "cell_type": "code",
   "execution_count": 30,
   "id": "69ed325b",
   "metadata": {
    "execution": {
     "iopub.execute_input": "2023-10-25T13:37:19.689491Z",
     "iopub.status.busy": "2023-10-25T13:37:19.687705Z",
     "iopub.status.idle": "2023-10-25T13:37:19.695700Z",
     "shell.execute_reply": "2023-10-25T13:37:19.693899Z",
     "shell.execute_reply.started": "2023-10-25T13:37:19.689446Z"
    }
   },
   "outputs": [],
   "source": [
    "PATH = 'feb-20-us-flight-delay.csv'"
   ]
  },
  {
   "cell_type": "markdown",
   "id": "ddfe4eb9",
   "metadata": {},
   "source": [
    "## Construção do grafo"
   ]
  },
  {
   "cell_type": "code",
   "execution_count": 34,
   "id": "2c046489",
   "metadata": {
    "execution": {
     "iopub.execute_input": "2023-10-25T13:41:31.202564Z",
     "iopub.status.busy": "2023-10-25T13:41:31.201581Z",
     "iopub.status.idle": "2023-10-25T13:41:33.844080Z",
     "shell.execute_reply": "2023-10-25T13:41:33.841674Z",
     "shell.execute_reply.started": "2023-10-25T13:41:31.202529Z"
    }
   },
   "outputs": [],
   "source": [
    "dicionario = {}\n",
    "\n",
    "with open(PATH, \"r\") as arquivo:\n",
    "    arquivo.readline()\n",
    "    read = csv.reader(arquivo)\n",
    "    \n",
    "    for i, linha in enumerate(read):\n",
    "        origem = linha[4]\n",
    "        destino = linha[5]\n",
    "\n",
    "        # Incrementar o número de ocorrências do par de aeroportos\n",
    "        par = (origem, destino)\n",
    "        if par not in dicionario:\n",
    "            dicionario[par] = 0\n",
    "        dicionario[par] += 1\n",
    "\n",
    "# Verificar se a aresta já existe\n",
    "for par in dicionario:\n",
    "    if dicionario[par] >= 1:\n",
    "        # Criar a aresta\n",
    "        u = get_or_add_vertex(g, par[0])\n",
    "        v = get_or_add_vertex(g, par[1])\n",
    "        e = get_or_add_edge(g, par[0], par[1])\n",
    "\n",
    "\n"
   ]
  },
  {
   "cell_type": "markdown",
   "id": "11357f77",
   "metadata": {},
   "source": [
    "## Otimização e reposicionamento das arestas"
   ]
  },
  {
   "cell_type": "code",
   "execution_count": 37,
   "id": "886018c3",
   "metadata": {
    "execution": {
     "iopub.execute_input": "2023-10-25T13:41:37.375787Z",
     "iopub.status.busy": "2023-10-25T13:41:37.373334Z",
     "iopub.status.idle": "2023-10-25T13:41:39.701457Z",
     "shell.execute_reply": "2023-10-25T13:41:39.699596Z",
     "shell.execute_reply.started": "2023-10-25T13:41:37.375535Z"
    }
   },
   "outputs": [],
   "source": [
    "layout = draw.sfdp_layout(g)\n",
    "gte.move(g, layout)"
   ]
  },
  {
   "cell_type": "code",
   "execution_count": 38,
   "id": "1122f17d",
   "metadata": {
    "execution": {
     "iopub.execute_input": "2023-10-25T13:41:39.706925Z",
     "iopub.status.busy": "2023-10-25T13:41:39.705232Z",
     "iopub.status.idle": "2023-10-25T13:41:40.292211Z",
     "shell.execute_reply": "2023-10-25T13:41:40.288249Z",
     "shell.execute_reply.started": "2023-10-25T13:41:39.706842Z"
    }
   },
   "outputs": [],
   "source": [
    "g = gte.clean(g)\n",
    "gte.save(g, 'slashdot.net.gz')"
   ]
  },
  {
   "cell_type": "code",
   "execution_count": null,
   "id": "6539f333-22d5-4e5b-9dc5-c3e4834d76e9",
   "metadata": {},
   "outputs": [],
   "source": []
  },
  {
   "cell_type": "markdown",
   "id": "c2c8de8c",
   "metadata": {},
   "source": [
    "## Visualização do grafo"
   ]
  },
  {
   "cell_type": "code",
   "execution_count": 39,
   "id": "faba5383",
   "metadata": {
    "execution": {
     "iopub.execute_input": "2023-10-25T13:41:40.294159Z",
     "iopub.status.busy": "2023-10-25T13:41:40.293635Z",
     "iopub.status.idle": "2023-10-25T13:41:40.315783Z",
     "shell.execute_reply": "2023-10-25T13:41:40.313293Z",
     "shell.execute_reply.started": "2023-10-25T13:41:40.294113Z"
    },
    "scrolled": true
   },
   "outputs": [
    {
     "data": {
      "text/html": [
       "\n",
       "        <div id=\"E6EHeNZSXT6LK7Y2qhe4yg\"></div>\n",
       "        <script>netpixi.render('E6EHeNZSXT6LK7Y2qhe4yg', '/static/__shared__/slashdot.net.gz', 1.7777777777777777, true, true, false, true);</script>\n",
       "    "
      ],
      "text/plain": [
       "<IPython.core.display.HTML object>"
      ]
     },
     "metadata": {},
     "output_type": "display_data"
    }
   ],
   "source": [
    "r = netpixi.render('slashdot.net.gz', infinite=True)"
   ]
  },
  {
   "cell_type": "markdown",
   "id": "8c92bdcb-57e4-4728-b35b-dde796f51da5",
   "metadata": {
    "execution": {
     "iopub.execute_input": "2023-09-20T21:05:18.203224Z",
     "iopub.status.busy": "2023-09-20T21:05:18.202138Z",
     "iopub.status.idle": "2023-09-20T21:05:18.220878Z",
     "shell.execute_reply": "2023-09-20T21:05:18.217960Z",
     "shell.execute_reply.started": "2023-09-20T21:05:18.203165Z"
    }
   },
   "source": [
    "r.vertex_set_key('id')"
   ]
  },
  {
   "cell_type": "code",
   "execution_count": 40,
   "id": "6c313da4",
   "metadata": {
    "execution": {
     "iopub.execute_input": "2023-10-25T13:42:27.613400Z",
     "iopub.status.busy": "2023-10-25T13:42:27.612680Z",
     "iopub.status.idle": "2023-10-25T13:42:27.621161Z",
     "shell.execute_reply": "2023-10-25T13:42:27.619697Z",
     "shell.execute_reply.started": "2023-10-25T13:42:27.613372Z"
    }
   },
   "outputs": [
    {
     "data": {
      "text/html": [
       "\n",
       "        <div id=\"o2ceCUJ4gXsiizmoTYexgW\"></div>\n",
       "        <script>netpixi.call('o2ceCUJ4gXsiizmoTYexgW', 'E6EHeNZSXT6LK7Y2qhe4yg', 'changeGraph', 'eyJ0eXBlIjogInNldHRpbmdzIiwgInByb3BzIjogeyJ2ZXJ0ZXgiOiB7InNpemUiOiA0LCAiYndpZHRoIjogMX19fQo=');</script>\n",
       "    "
      ],
      "text/plain": [
       "<IPython.core.display.HTML object>"
      ]
     },
     "metadata": {},
     "output_type": "display_data"
    }
   ],
   "source": [
    "r.vertex_default(size=4, bwidth=1)"
   ]
  },
  {
   "cell_type": "code",
   "execution_count": 41,
   "id": "a25972f3",
   "metadata": {
    "execution": {
     "iopub.execute_input": "2023-10-25T13:42:27.870713Z",
     "iopub.status.busy": "2023-10-25T13:42:27.869807Z",
     "iopub.status.idle": "2023-10-25T13:42:27.883594Z",
     "shell.execute_reply": "2023-10-25T13:42:27.881672Z",
     "shell.execute_reply.started": "2023-10-25T13:42:27.870673Z"
    }
   },
   "outputs": [
    {
     "data": {
      "text/html": [
       "\n",
       "        <div id=\"eQwtpAPs8zybyqAsK6bpm4\"></div>\n",
       "        <script>netpixi.call('eQwtpAPs8zybyqAsK6bpm4', 'E6EHeNZSXT6LK7Y2qhe4yg', 'changeGraph', 'eyJ0eXBlIjogInNldHRpbmdzIiwgInByb3BzIjogeyJlZGdlIjogeyJ3aWR0aCI6IDF9fX0K');</script>\n",
       "    "
      ],
      "text/plain": [
       "<IPython.core.display.HTML object>"
      ]
     },
     "metadata": {},
     "output_type": "display_data"
    }
   ],
   "source": [
    "r.edge_default(width=1)"
   ]
  },
  {
   "cell_type": "markdown",
   "id": "91371430-3c8f-438d-8bcb-ef35bd2ff33f",
   "metadata": {},
   "source": [
    "## Densidade e Transitividade"
   ]
  },
  {
   "cell_type": "code",
   "execution_count": 42,
   "id": "3fe0fa1b-6d32-4303-9cce-e9433d6c5aac",
   "metadata": {
    "execution": {
     "iopub.execute_input": "2023-10-25T13:42:28.983088Z",
     "iopub.status.busy": "2023-10-25T13:42:28.981971Z",
     "iopub.status.idle": "2023-10-25T13:42:29.100251Z",
     "shell.execute_reply": "2023-10-25T13:42:29.099219Z",
     "shell.execute_reply.started": "2023-10-25T13:42:28.983056Z"
    }
   },
   "outputs": [],
   "source": [
    "g = gte.load('../__shared__/slashdot.net.gz')"
   ]
  },
  {
   "cell_type": "code",
   "execution_count": 43,
   "id": "112c33d9-332e-4729-9eb7-1032e6f78e2e",
   "metadata": {
    "execution": {
     "iopub.execute_input": "2023-10-25T13:42:29.186307Z",
     "iopub.status.busy": "2023-10-25T13:42:29.185491Z",
     "iopub.status.idle": "2023-10-25T13:42:29.195404Z",
     "shell.execute_reply": "2023-10-25T13:42:29.193604Z",
     "shell.execute_reply.started": "2023-10-25T13:42:29.186274Z"
    }
   },
   "outputs": [
    {
     "data": {
      "text/plain": [
       "4.62"
      ]
     },
     "execution_count": 43,
     "metadata": {},
     "output_type": "execute_result"
    }
   ],
   "source": [
    "g.density()"
   ]
  },
  {
   "cell_type": "code",
   "execution_count": 44,
   "id": "927ffd41-9f08-49aa-adfc-4cc7adc5a6fd",
   "metadata": {
    "execution": {
     "iopub.execute_input": "2023-10-25T13:42:29.392599Z",
     "iopub.status.busy": "2023-10-25T13:42:29.391129Z",
     "iopub.status.idle": "2023-10-25T13:42:29.405459Z",
     "shell.execute_reply": "2023-10-25T13:42:29.403999Z",
     "shell.execute_reply.started": "2023-10-25T13:42:29.392545Z"
    }
   },
   "outputs": [
    {
     "data": {
      "text/plain": [
       "32.12"
      ]
     },
     "execution_count": 44,
     "metadata": {},
     "output_type": "execute_result"
    }
   ],
   "source": [
    "g.transitivity()"
   ]
  },
  {
   "cell_type": "markdown",
   "id": "60abd271-d0c0-44f8-90c7-e3619cf525cc",
   "metadata": {},
   "source": [
    "## Distribuição de Degree"
   ]
  },
  {
   "cell_type": "code",
   "execution_count": 45,
   "id": "024eeadb-fa0a-449a-ac2d-90b8232f2e9c",
   "metadata": {
    "execution": {
     "iopub.execute_input": "2023-10-25T13:42:30.764207Z",
     "iopub.status.busy": "2023-10-25T13:42:30.763208Z",
     "iopub.status.idle": "2023-10-25T13:42:30.769660Z",
     "shell.execute_reply": "2023-10-25T13:42:30.768254Z",
     "shell.execute_reply.started": "2023-10-25T13:42:30.764173Z"
    }
   },
   "outputs": [],
   "source": [
    "degrees = g.get_total_degrees()"
   ]
  },
  {
   "cell_type": "code",
   "execution_count": 46,
   "id": "6167e753-5847-45eb-9446-57f2c75f48fe",
   "metadata": {
    "execution": {
     "iopub.execute_input": "2023-10-25T13:42:30.968056Z",
     "iopub.status.busy": "2023-10-25T13:42:30.967167Z",
     "iopub.status.idle": "2023-10-25T13:42:30.983501Z",
     "shell.execute_reply": "2023-10-25T13:42:30.981679Z",
     "shell.execute_reply.started": "2023-10-25T13:42:30.968022Z"
    }
   },
   "outputs": [
    {
     "data": {
      "text/plain": [
       "count    350.000000\n",
       "mean      16.114286\n",
       "std       27.318950\n",
       "min        1.000000\n",
       "25%        2.000000\n",
       "50%        5.000000\n",
       "75%       16.000000\n",
       "max      175.000000\n",
       "dtype: float64"
      ]
     },
     "execution_count": 46,
     "metadata": {},
     "output_type": "execute_result"
    }
   ],
   "source": [
    "degrees.describe()"
   ]
  },
  {
   "cell_type": "code",
   "execution_count": 47,
   "id": "2914a4b1-2471-4d53-b5d0-dfcd6c8766eb",
   "metadata": {
    "execution": {
     "iopub.execute_input": "2023-10-25T13:42:31.677904Z",
     "iopub.status.busy": "2023-10-25T13:42:31.677089Z",
     "iopub.status.idle": "2023-10-25T13:42:31.975190Z",
     "shell.execute_reply": "2023-10-25T13:42:31.973301Z",
     "shell.execute_reply.started": "2023-10-25T13:42:31.677874Z"
    }
   },
   "outputs": [
    {
     "data": {
      "image/png": "[encoded data removed]",
      "text/plain": [
       "<Figure size 640x480 with 1 Axes>"
      ]
     },
     "metadata": {},
     "output_type": "display_data"
    }
   ],
   "source": [
    "degrees[degrees<10].hist(bins=7);"
   ]
  },
  {
   "cell_type": "markdown",
   "id": "cac3e974-7b17-422f-a396-f68a6fdb6160",
   "metadata": {},
   "source": [
    "## Power law"
   ]
  },
  {
   "cell_type": "code",
   "execution_count": 48,
   "id": "add0e317-52eb-4bd7-8c26-0ea6759cb2ca",
   "metadata": {
    "execution": {
     "iopub.execute_input": "2023-10-25T13:43:05.504063Z",
     "iopub.status.busy": "2023-10-25T13:43:05.503137Z",
     "iopub.status.idle": "2023-10-25T13:43:05.516768Z",
     "shell.execute_reply": "2023-10-25T13:43:05.515234Z",
     "shell.execute_reply.started": "2023-10-25T13:43:05.504036Z"
    }
   },
   "outputs": [
    {
     "data": {
      "text/plain": [
       "1.224583188680337e-54"
      ]
     },
     "execution_count": 48,
     "metadata": {},
     "output_type": "execute_result"
    }
   ],
   "source": [
    "dst.not_normal(degrees)"
   ]
  },
  {
   "cell_type": "code",
   "execution_count": 49,
   "id": "740f4e21-7385-48c7-ad13-80bf4cc35fc9",
   "metadata": {
    "execution": {
     "iopub.execute_input": "2023-10-25T13:43:05.689085Z",
     "iopub.status.busy": "2023-10-25T13:43:05.688287Z",
     "iopub.status.idle": "2023-10-25T13:43:05.863633Z",
     "shell.execute_reply": "2023-10-25T13:43:05.861739Z",
     "shell.execute_reply.started": "2023-10-25T13:43:05.689052Z"
    },
    "scrolled": true
   },
   "outputs": [
    {
     "name": "stdout",
     "output_type": "stream",
     "text": [
      "Calculating best minimal value for power law fit\n",
      "xmin progress: 98%\r"
     ]
    },
    {
     "data": {
      "text/plain": [
       "(False, 0.4479195494375472)"
      ]
     },
     "execution_count": 49,
     "metadata": {},
     "output_type": "execute_result"
    }
   ],
   "source": [
    "dst.more_powerlaw_than_lognormal(degrees)"
   ]
  },
  {
   "cell_type": "code",
   "execution_count": 50,
   "id": "209be374-cca2-4736-9ee6-f0071c64cdad",
   "metadata": {
    "execution": {
     "iopub.execute_input": "2023-10-25T13:43:05.876213Z",
     "iopub.status.busy": "2023-10-25T13:43:05.874302Z",
     "iopub.status.idle": "2023-10-25T13:43:05.916338Z",
     "shell.execute_reply": "2023-10-25T13:43:05.914125Z",
     "shell.execute_reply.started": "2023-10-25T13:43:05.876128Z"
    }
   },
   "outputs": [
    {
     "name": "stdout",
     "output_type": "stream",
     "text": [
      "Calculating best minimal value for power law fit\n",
      "xmin progress: 98%\r"
     ]
    },
    {
     "data": {
      "text/plain": [
       "(False, 0.46930840937943485)"
      ]
     },
     "execution_count": 50,
     "metadata": {},
     "output_type": "execute_result"
    }
   ],
   "source": [
    "dst.more_powerlaw_than_exponential(degrees)"
   ]
  },
  {
   "cell_type": "markdown",
   "id": "519c79b5-2191-4eff-a623-0f83f2cc4e22",
   "metadata": {},
   "source": [
    "## Distribuição de Distância"
   ]
  },
  {
   "cell_type": "code",
   "execution_count": 51,
   "id": "1bdbb7d7-ff69-4b0a-b413-01ee806030f4",
   "metadata": {
    "execution": {
     "iopub.execute_input": "2023-10-25T13:43:06.272479Z",
     "iopub.status.busy": "2023-10-25T13:43:06.271799Z",
     "iopub.status.idle": "2023-10-25T13:43:06.356751Z",
     "shell.execute_reply": "2023-10-25T13:43:06.355537Z",
     "shell.execute_reply.started": "2023-10-25T13:43:06.272437Z"
    }
   },
   "outputs": [],
   "source": [
    "distances = g.get_distances()"
   ]
  },
  {
   "cell_type": "code",
   "execution_count": 52,
   "id": "e55083bd-f89e-47bb-8e37-2934e53f5f76",
   "metadata": {
    "execution": {
     "iopub.execute_input": "2023-10-25T13:43:06.486934Z",
     "iopub.status.busy": "2023-10-25T13:43:06.485517Z",
     "iopub.status.idle": "2023-10-25T13:43:06.510452Z",
     "shell.execute_reply": "2023-10-25T13:43:06.508056Z",
     "shell.execute_reply.started": "2023-10-25T13:43:06.486890Z"
    }
   },
   "outputs": [
    {
     "data": {
      "text/plain": [
       "count    122500.000000\n",
       "mean          2.405012\n",
       "std           0.692421\n",
       "min           0.000000\n",
       "25%           2.000000\n",
       "50%           2.000000\n",
       "75%           3.000000\n",
       "max           6.000000\n",
       "dtype: float64"
      ]
     },
     "execution_count": 52,
     "metadata": {},
     "output_type": "execute_result"
    }
   ],
   "source": [
    "distances.describe()"
   ]
  },
  {
   "cell_type": "code",
   "execution_count": 53,
   "id": "04537bb0-1c2a-4cd8-aed5-9916a3eaa045",
   "metadata": {
    "execution": {
     "iopub.execute_input": "2023-10-25T13:43:06.685439Z",
     "iopub.status.busy": "2023-10-25T13:43:06.684685Z",
     "iopub.status.idle": "2023-10-25T13:43:07.018657Z",
     "shell.execute_reply": "2023-10-25T13:43:07.016991Z",
     "shell.execute_reply.started": "2023-10-25T13:43:06.685407Z"
    }
   },
   "outputs": [
    {
     "data": {
      "image/png": "[encoded data removed]",
      "text/plain": [
       "<Figure size 640x480 with 1 Axes>"
      ]
     },
     "metadata": {},
     "output_type": "display_data"
    }
   ],
   "source": [
    "distances.hist(bins=7);"
   ]
  },
  {
   "cell_type": "code",
   "execution_count": 54,
   "id": "a0e771ec-31a3-4df7-b453-5b74d7da568d",
   "metadata": {
    "execution": {
     "iopub.execute_input": "2023-10-25T13:43:07.022106Z",
     "iopub.status.busy": "2023-10-25T13:43:07.020788Z",
     "iopub.status.idle": "2023-10-25T13:43:07.035450Z",
     "shell.execute_reply": "2023-10-25T13:43:07.031391Z",
     "shell.execute_reply.started": "2023-10-25T13:43:07.022064Z"
    }
   },
   "outputs": [
    {
     "data": {
      "text/plain": [
       "5.857933154483459"
      ]
     },
     "execution_count": 54,
     "metadata": {},
     "output_type": "execute_result"
    }
   ],
   "source": [
    "log(g.num_vertices())"
   ]
  },
  {
   "cell_type": "code",
   "execution_count": null,
   "id": "bbfc294e-bf2d-40bf-8fd6-f5640d454dcd",
   "metadata": {},
   "outputs": [],
   "source": []
  },
  {
   "cell_type": "code",
   "execution_count": null,
   "id": "eabe33b8-d363-4fd8-8de6-2a7b44ee512c",
   "metadata": {},
   "outputs": [],
   "source": []
  }
 ],
 "metadata": {
  "kernelspec": {
   "display_name": "Python 3 (ipykernel)",
   "language": "python",
   "name": "python3"
  },
  "language_info": {
   "codemirror_mode": {
    "name": "ipython",
    "version": 3
   },
   "file_extension": ".py",
   "mimetype": "text/x-python",
   "name": "python",
   "nbconvert_exporter": "python",
   "pygments_lexer": "ipython3",
   "version": "3.11.5"
  }
 },
 "nbformat": 4,
 "nbformat_minor": 5
}
